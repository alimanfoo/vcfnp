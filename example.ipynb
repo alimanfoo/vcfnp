{
 "metadata": {
  "name": "",
  "signature": "sha256:ebbbd1a5dfe53666784a8a535b0c80474c3776c6d3382adde75214c32e804978"
 },
 "nbformat": 3,
 "nbformat_minor": 0,
 "worksheets": [
  {
   "cells": [
    {
     "cell_type": "code",
     "collapsed": false,
     "input": [
      "from __future__ import print_function, division\n",
      "import numpy as np\n",
      "%matplotlib inline\n",
      "import matplotlib.pyplot as plt\n",
      "import vcfnp\n",
      "vcfnp.__version__"
     ],
     "language": "python",
     "metadata": {},
     "outputs": [
      {
       "metadata": {},
       "output_type": "pyout",
       "prompt_number": 1,
       "text": [
        "'2.0.0'"
       ]
      }
     ],
     "prompt_number": 1
    },
    {
     "cell_type": "code",
     "collapsed": false,
     "input": [
      "# VCF file name\n",
      "filename = 'fixture/sample.vcf'"
     ],
     "language": "python",
     "metadata": {},
     "outputs": [],
     "prompt_number": 2
    },
    {
     "cell_type": "code",
     "collapsed": false,
     "input": [
      "# load data from fixed fields (including INFO)\n",
      "v = vcfnp.variants(filename, cache=True).view(np.recarray)"
     ],
     "language": "python",
     "metadata": {},
     "outputs": [
      {
       "output_type": "stream",
       "stream": "stderr",
       "text": [
        "[vcfnp] 2015-01-23 11:22:59.232507 :: caching is enabled\n"
       ]
      },
      {
       "output_type": "stream",
       "stream": "stderr",
       "text": [
        "[vcfnp] 2015-01-23 11:22:59.232909 :: cache file available\n"
       ]
      },
      {
       "output_type": "stream",
       "stream": "stderr",
       "text": [
        "[vcfnp] 2015-01-23 11:22:59.233095 :: loading from cache file fixture/sample.vcf.vcfnp_cache/variants.npy\n"
       ]
      }
     ],
     "prompt_number": 3
    },
    {
     "cell_type": "code",
     "collapsed": false,
     "input": [
      "v.dtype"
     ],
     "language": "python",
     "metadata": {},
     "outputs": [
      {
       "metadata": {},
       "output_type": "pyout",
       "prompt_number": 4,
       "text": [
        "dtype([('CHROM', 'S12'), ('POS', '<i4'), ('ID', 'S12'), ('REF', 'S12'), ('ALT', 'S12'), ('QUAL', '<f4'), ('FILTER_q10', '?'), ('FILTER_s50', '?'), ('FILTER_PASS', '?'), ('num_alleles', 'u1'), ('is_snp', '?'), ('svlen', '<i4'), ('AA', 'S12'), ('AC', '<u2'), ('AF', '<f2'), ('AN', '<u2'), ('DB', '?'), ('DP', '<i4'), ('H2', '?'), ('NS', '<i4')])"
       ]
      }
     ],
     "prompt_number": 4
    },
    {
     "cell_type": "code",
     "collapsed": false,
     "input": [
      "v.CHROM"
     ],
     "language": "python",
     "metadata": {},
     "outputs": [
      {
       "metadata": {},
       "output_type": "pyout",
       "prompt_number": 5,
       "text": [
        "chararray([b'19', b'19', b'20', b'20', b'20', b'20', b'20', b'20', b'X'], \n",
        "      dtype='|S12')"
       ]
      }
     ],
     "prompt_number": 5
    },
    {
     "cell_type": "code",
     "collapsed": false,
     "input": [
      "v.POS"
     ],
     "language": "python",
     "metadata": {},
     "outputs": [
      {
       "metadata": {},
       "output_type": "pyout",
       "prompt_number": 6,
       "text": [
        "array([    111,     112,   14370,   17330, 1110696, 1230237, 1234567,\n",
        "       1235237,      10], dtype=int32)"
       ]
      }
     ],
     "prompt_number": 6
    },
    {
     "cell_type": "code",
     "collapsed": false,
     "input": [
      "v.DP"
     ],
     "language": "python",
     "metadata": {},
     "outputs": [
      {
       "metadata": {},
       "output_type": "pyout",
       "prompt_number": 7,
       "text": [
        "array([ 0,  0, 14, 11, 10, 13,  9,  0,  0], dtype=int32)"
       ]
      }
     ],
     "prompt_number": 7
    },
    {
     "cell_type": "code",
     "collapsed": false,
     "input": [
      "# print some simple variant metrics\n",
      "print('found %s variants (%s SNPs)' % (v.size, np.count_nonzero(v.is_snp)))\n",
      "print('QUAL mean (std): %s (%s)' % (np.mean(v.QUAL), np.std(v.QUAL)))"
     ],
     "language": "python",
     "metadata": {},
     "outputs": [
      {
       "output_type": "stream",
       "stream": "stdout",
       "text": [
        "found 9 variants (5 SNPs)\n",
        "QUAL mean (std): 25.0667 (22.816)\n"
       ]
      }
     ],
     "prompt_number": 8
    },
    {
     "cell_type": "code",
     "collapsed": false,
     "input": [
      "# plot a histogram of variant depth\n",
      "fig = plt.figure(1)\n",
      "ax = fig.add_subplot(111)\n",
      "ax.hist(v.DP)\n",
      "ax.set_title('DP histogram')\n",
      "ax.set_xlabel('DP');"
     ],
     "language": "python",
     "metadata": {},
     "outputs": [
      {
       "metadata": {},
       "output_type": "display_data",
       "png": "[encoded data removed]",
       "text": [
        "<matplotlib.figure.Figure at 0x7f527a064908>"
       ]
      }
     ],
     "prompt_number": 9
    },
    {
     "cell_type": "code",
     "collapsed": false,
     "input": [
      "# load data from sample columns\n",
      "c = vcfnp.calldata_2d(filename, cache=True).view(np.recarray)"
     ],
     "language": "python",
     "metadata": {},
     "outputs": [
      {
       "output_type": "stream",
       "stream": "stderr",
       "text": [
        "[vcfnp] 2015-01-23 11:22:59.494181 :: caching is enabled\n"
       ]
      },
      {
       "output_type": "stream",
       "stream": "stderr",
       "text": [
        "[vcfnp] 2015-01-23 11:22:59.494571 :: cache file available\n"
       ]
      },
      {
       "output_type": "stream",
       "stream": "stderr",
       "text": [
        "[vcfnp] 2015-01-23 11:22:59.494840 :: loading from cache file fixture/sample.vcf.vcfnp_cache/calldata_2d.npy\n"
       ]
      }
     ],
     "prompt_number": 10
    },
    {
     "cell_type": "code",
     "collapsed": false,
     "input": [
      "c.dtype"
     ],
     "language": "python",
     "metadata": {},
     "outputs": [
      {
       "metadata": {},
       "output_type": "pyout",
       "prompt_number": 11,
       "text": [
        "dtype([('is_called', '?'), ('is_phased', '?'), ('genotype', 'i1', (2,)), ('DP', '<u2'), ('GQ', 'u1'), ('GT', 'S3'), ('HQ', '<i4', (2,))])"
       ]
      }
     ],
     "prompt_number": 11
    },
    {
     "cell_type": "code",
     "collapsed": false,
     "input": [
      "c.genotype"
     ],
     "language": "python",
     "metadata": {},
     "outputs": [
      {
       "metadata": {},
       "output_type": "pyout",
       "prompt_number": 12,
       "text": [
        "array([[[ 0,  0],\n",
        "        [ 0,  0],\n",
        "        [ 0,  1]],\n",
        "\n",
        "       [[ 0,  0],\n",
        "        [ 0,  0],\n",
        "        [ 0,  1]],\n",
        "\n",
        "       [[ 0,  0],\n",
        "        [ 1,  0],\n",
        "        [ 1,  1]],\n",
        "\n",
        "       [[ 0,  0],\n",
        "        [ 0,  1],\n",
        "        [ 0,  0]],\n",
        "\n",
        "       [[ 1,  2],\n",
        "        [ 2,  1],\n",
        "        [ 2,  2]],\n",
        "\n",
        "       [[ 0,  0],\n",
        "        [ 0,  0],\n",
        "        [ 0,  0]],\n",
        "\n",
        "       [[ 0,  1],\n",
        "        [ 0,  2],\n",
        "        [-1, -1]],\n",
        "\n",
        "       [[ 0,  0],\n",
        "        [ 0,  0],\n",
        "        [-1, -1]],\n",
        "\n",
        "       [[ 0, -1],\n",
        "        [ 0,  1],\n",
        "        [ 0,  2]]], dtype=int8)"
       ]
      }
     ],
     "prompt_number": 12
    },
    {
     "cell_type": "code",
     "collapsed": false,
     "input": [
      "# print some simple genotype metrics\n",
      "count_phased = np.count_nonzero(c.is_phased)\n",
      "count_variant = np.count_nonzero(np.any(c.genotype > 0, axis=2))\n",
      "count_missing = np.count_nonzero(~c.is_called)\n",
      "print('calls (phased, variant, missing): %s (%s, %s, %s)'\n",
      "    % (c.flatten().size, count_phased, count_variant, count_missing))"
     ],
     "language": "python",
     "metadata": {},
     "outputs": [
      {
       "output_type": "stream",
       "stream": "stdout",
       "text": [
        "calls (phased, variant, missing): 27 (14, 12, 2)\n"
       ]
      }
     ],
     "prompt_number": 13
    },
    {
     "cell_type": "code",
     "collapsed": false,
     "input": [
      "# plot a histogram of genotype quality\n",
      "fig = plt.figure(2)\n",
      "ax = fig.add_subplot(111)\n",
      "ax.hist(c.GQ.flatten())\n",
      "ax.set_title('GQ histogram')\n",
      "ax.set_xlabel('GQ');"
     ],
     "language": "python",
     "metadata": {},
     "outputs": [
      {
       "metadata": {},
       "output_type": "display_data",
       "png": "[encoded data removed]",
       "text": [
        "<matplotlib.figure.Figure at 0x7f527a064518>"
       ]
      }
     ],
     "prompt_number": 14
    }
   ],
   "metadata": {}
  }
 ]
}